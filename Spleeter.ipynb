{
  "cells": [
    {
      "cell_type": "markdown",
      "metadata": {
        "id": "K6mcSc0mmp3i"
      },
      "source": [
        "# Install spleeter"
      ]
    },
    {
      "cell_type": "code",
      "execution_count": null,
      "metadata": {
        "id": "f8Brdfh6mzEz"
      },
      "outputs": [],
      "source": [
        "!apt install ffmpeg"
      ]
    },
    {
      "cell_type": "code",
      "execution_count": null,
      "metadata": {
        "id": "V_6Ram1lmc1F"
      },
      "outputs": [],
      "source": [
        "pip install spleeter"
      ]
    },
    {
      "cell_type": "code",
      "execution_count": null,
      "metadata": {
        "id": "W0LktyMypXqE"
      },
      "outputs": [],
      "source": [
        "from IPython.display import Audio"
      ]
    },
    {
      "cell_type": "markdown",
      "metadata": {
        "id": "afbcUSken16L"
      },
      "source": [
        "# Separate from command line"
      ]
    },
    {
      "cell_type": "code",
      "source": [
        "!python3 silencer.py"
      ],
      "metadata": {
        "id": "ZrpIP6IobA6r",
        "outputId": "813384c0-4ae8-4d88-caf5-d21872614d92",
        "colab": {
          "base_uri": "https://localhost:8080/"
        }
      },
      "execution_count": null,
      "outputs": [
        {
          "output_type": "stream",
          "name": "stdout",
          "text": [
            "INFO:spleeter:File output/CANGURO/vocals.wav written succesfully\n",
            "INFO:spleeter:File output/CANGURO/accompaniment.wav written succesfully\n",
            "Pistas vocales separadas para: CANGURO.m4a\n",
            "Pista vocal renombrada copiada: output/CANGURO/vocals.wav -> tracks/CANGURO.wav\n",
            "INFO:spleeter:File output/BUITRES/vocals.wav written succesfully\n",
            "INFO:spleeter:File output/BUITRES/accompaniment.wav written succesfully\n",
            "Pistas vocales separadas para: BUITRES.m4a\n",
            "Pista vocal renombrada copiada: output/BUITRES/vocals.wav -> tracks/BUITRES.wav\n"
          ]
        }
      ]
    }
  ],
  "metadata": {
    "colab": {
      "provenance": []
    },
    "kernelspec": {
      "display_name": "Python 3",
      "name": "python3"
    }
  },
  "nbformat": 4,
  "nbformat_minor": 0
}